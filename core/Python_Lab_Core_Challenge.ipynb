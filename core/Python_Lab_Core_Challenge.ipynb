{
 "cells": [
  {
   "cell_type": "markdown",
   "metadata": {},
   "source": [
    "#Question:\n",
    "The recent Citi Bike data has garnered a lot of attention. Attached you will find a data set of Citibike riders. The challenge is threefold:\n",
    "1. Calculate and print the average trip duration\n",
    "2. Visualize the usage by gender (male, female, unknown) and by user type (subscriber vs customer) over the period of a month.\n",
    "3. Visualize total monthly usage by gender on a hourly basis (24 hrs over x-axis)"
   ]
  },
  {
   "cell_type": "code",
   "execution_count": 149,
   "metadata": {
    "collapsed": true
   },
   "outputs": [],
   "source": [
    "import numpy as np\n",
    "import pandas as pd\n",
    "import matplotlib.pyplot as plt\n",
    "from matplotlib import gridspec\n",
    "from datetime import datetime, timedelta"
   ]
  },
  {
   "cell_type": "code",
   "execution_count": 150,
   "metadata": {
    "collapsed": false
   },
   "outputs": [
    {
     "name": "stdout",
     "output_type": "stream",
     "text": [
      "Loading data......\n",
      "Calculating the average trip duration......\n",
      "860.084054985\n"
     ]
    }
   ],
   "source": [
    "print \"Loading data......\"\n",
    "data = pd.read_csv(\"2014-07-Citi_Bike_trip_data.csv\")\n",
    "print \"Calculating the average trip duration......\"\n",
    "print np.average(data[\"tripduration\"])"
   ]
  },
  {
   "cell_type": "code",
   "execution_count": 159,
   "metadata": {
    "collapsed": false
   },
   "outputs": [
    {
     "name": "stdout",
     "output_type": "stream",
     "text": [
      "Visualizing......\n"
     ]
    }
   ],
   "source": [
    "print \"Visualizing......\"\n",
    "male = data[\"gender\"]==1\n",
    "female = data[\"gender\"]==2\n",
    "unknown = data[\"gender\"]==0\n",
    "customer = data[\"usertype\"]==\"Customer\"\n",
    "subscriber = data[\"usertype\"]==\"Subscriber\""
   ]
  },
  {
   "cell_type": "code",
   "execution_count": 162,
   "metadata": {
    "collapsed": false
   },
   "outputs": [
    {
     "name": "stdout",
     "output_type": "stream",
     "text": [
      "849778\n",
      "119064\n"
     ]
    }
   ],
   "source": [
    "print sum(subscriber)\n",
    "print sum(customer)"
   ]
  },
  {
   "cell_type": "code",
   "execution_count": 152,
   "metadata": {
    "collapsed": false
   },
   "outputs": [
    {
     "name": "stdout",
     "output_type": "stream",
     "text": [
      "2014-07-01 00:00:06\n"
     ]
    }
   ],
   "source": [
    "def _calculate_time(date):\n",
    "    return datetime.strptime(date, \"%Y-%m-%d %H:%M:%S\")    \n",
    "v_calculate_time = np.vectorize(_calculate_time)\n",
    "start = v_calculate_time(data[\"starttime\"])"
   ]
  },
  {
   "cell_type": "code",
   "execution_count": 153,
   "metadata": {
    "collapsed": false
   },
   "outputs": [],
   "source": [
    "m = np.zeros(24)\n",
    "f = np.zeros(24)\n",
    "u = np.zeros(24)\n",
    "def _check(start,cond,sex):\n",
    "    if sex and start.hour==cond:\n",
    "        return 1\n",
    "    else:\n",
    "        return 0\n",
    "v_check = np.vectorize(_check)\n",
    "for i in xrange(24):\n",
    "    m[i] = np.sum(v_check(start,i,male))\n",
    "    f[i] = np.sum(v_check(start,i,female))\n",
    "    u[i] = np.sum(v_check(start,i,unknown))\n"
   ]
  },
  {
   "cell_type": "code",
   "execution_count": 154,
   "metadata": {
    "collapsed": false
   },
   "outputs": [],
   "source": [
    "pk = m+f+u"
   ]
  },
  {
   "cell_type": "code",
   "execution_count": 155,
   "metadata": {
    "collapsed": false
   },
   "outputs": [
    {
     "data": {
      "text/plain": [
       "<matplotlib.text.Text at 0x7f87ecea7210>"
      ]
     },
     "execution_count": 155,
     "metadata": {},
     "output_type": "execute_result"
    }
   ],
   "source": [
    "fig = plt.figure()\n",
    "fig.canvas.set_window_title(\"Python Core Challenge\")\n",
    "gs = gridspec.GridSpec(2, 2)\n",
    "ax = fig.add_subplot(gs[0,:])\n",
    "x_g = 0.22\n",
    "y_g = 0.5\n",
    "x_t = 0.22\n",
    "y_t = 0.5\n",
    "ap_width = 1\n",
    "ap_const = 1\n",
    "ap_ind = np.arange(24)\n",
    "\n",
    "# For Hourly Usage\n",
    "rect1 = ax.bar(np.arange(24), pk, \n",
    "    color='#3F5D7D',edgecolor=None, alpha=0.3)\n",
    "\n",
    "rect2 = ax.bar(np.arange(24), f, \n",
    "    color='#3F5D7D',edgecolor=None, alpha=0.7, bottom=m)\n",
    "\n",
    "rect3 = ax.bar(np.arange(24), u, color='#3F5D7D',edgecolor=None, alpha=1, bottom=m+f)\n",
    "ax.plot(np.arange(24)+0.4, pk, color='#ff0000')\n",
    "\n",
    "ax.legend( (rect1, rect2, rect3), ('Men', 'Women', 'Unknown') )\n",
    "\n",
    "ax.set_xlabel('Hour of the Day')\n",
    "ax.set_xticks(np.arange(pk.shape[0]))\n",
    "ax.set_xlim(right = pk.shape[0])\n",
    "ax.grid(color='grey', linestyle='--', linewidth=1, alpha=0.2)\n",
    "ax.set_ylabel('Number of People')\n",
    "ax.set_title('Peak Hour for July 2014')"
   ]
  },
  {
   "cell_type": "code",
   "execution_count": 156,
   "metadata": {
    "collapsed": false
   },
   "outputs": [
    {
     "data": {
      "text/plain": [
       "<matplotlib.text.Text at 0x7f87f2c49e50>"
      ]
     },
     "execution_count": 156,
     "metadata": {},
     "output_type": "execute_result"
    }
   ],
   "source": [
    "# For Gender\n",
    "bx = fig.add_subplot(gs[1,0])                                                       \n",
    "rect2 = bx.bar(np.arange(2)+0.3, (sum(m),sum(f)), 0.3, color='#3F5D7D',                       \n",
    "               edgecolor=None, alpha=0.7)                                       \n",
    "bx.set_xlabel('Gender')                                                         \n",
    "bx.set_ylabel('Number of people')                                               \n",
    "bx.set_title('Rides by Men vs Women')                                           \n",
    "bx.grid(color='grey', linestyle='--', linewidth=1, alpha=0.2)                   \n",
    "bx.set_xlim([0, 2])                                                             \n",
    "bx.set_ylim(top = 1.02 * data.shape[0])                                            \n",
    "bx.axes.get_xaxis().set_visible(False)                                          \n",
    "bx.tick_params(labelsize=8)                                                     \n",
    "bx.text(x_g, y_g, 'Male', horizontalalignment='center',                         \n",
    "        verticalalignment='center', color='#303030',                            \n",
    "        weight='ultralight', rotation='horizontal', transform=bx.transAxes)     \n",
    "bx.text(x_g, y_g-0.2, np.sum(m), horizontalalignment='center',               \n",
    "        verticalalignment='center', color='#303030',                            \n",
    "        weight='ultralight', rotation='horizontal', transform=bx.transAxes)     \n",
    "                                                                               \n",
    "bx.text(x_g+0.5, y_g, 'Female', horizontalalignment='center',                   \n",
    "        verticalalignment='center', color='#303030',                            \n",
    "        weight='ultralight', rotation='horizontal', transform=bx.transAxes)     \n",
    "bx.text(x_g+0.5, y_g-0.2, np.sum(f), horizontalalignment='center',           \n",
    "        verticalalignment='center', color='#303030',                            \n",
    "        weight='ultralight', rotation='horizontal', transform=bx.transAxes) "
   ]
  },
  {
   "cell_type": "code",
   "execution_count": 157,
   "metadata": {
    "collapsed": false
   },
   "outputs": [
    {
     "data": {
      "text/plain": [
       "<matplotlib.text.Text at 0x7f87ede47f50>"
      ]
     },
     "execution_count": 157,
     "metadata": {},
     "output_type": "execute_result"
    }
   ],
   "source": [
    "cx = fig.add_subplot(gs[1,1])               \n",
    "utype = (np.sum(customer),np.sum(subscriber))\n",
    "rect3 = cx.bar(np.arange(2)+0.3, utype, 0.3, color='#3F5D7D',                                                                                                        \n",
    "               edgecolor=None, alpha=0.7)\n",
    "cx.set_xlabel('Types of Customers')                                                                                                                                  \n",
    "cx.set_ylabel('Number of Customers')                                                                                                                                 \n",
    "cx.set_title('Customers vs Subscribers')                                                                                                                                \n",
    "cx.grid(color='grey', linestyle='--', linewidth=1, alpha=0.2)                                                                                                        \n",
    "cx.set_xlim([0, 2])                                                                                                                                                  \n",
    "cx.set_ylim(top = 1.02 * data.shape[0])                                                                                                                                 \n",
    "cx.axes.get_xaxis().set_visible(False)                                                                                                                               \n",
    "cx.tick_params(labelsize=8)                                                                                                                                          \n",
    "cx.text(x_t, y_t, 'Customers', horizontalalignment='center',                                                                                                     \n",
    "        verticalalignment='center', color='#303030',                                                                                                                 \n",
    "        weight='ultralight', rotation='horizontal', transform=cx.transAxes)                                                                                          \n",
    "cx.text(x_t, y_t-0.2, utype[0], horizontalalignment='center',                                                                                                        \n",
    "        verticalalignment='center', color='#303030',                                                                                                                 \n",
    "        weight='ultralight', rotation='horizontal', transform=cx.transAxes)                                                                                          \n",
    "                                                                                                                                                                     \n",
    "cx.text(x_t+0.5, y_t, 'Subscribers', horizontalalignment='center',                                                                                                      \n",
    "        verticalalignment='center', color='#303030',                                                                                                                 \n",
    "        weight='ultralight', rotation='horizontal', transform=cx.transAxes)                                                                                          \n",
    "cx.text(x_t+0.5, y_t-0.2, utype[1], horizontalalignment='center',                                                                                                    \n",
    "        verticalalignment='center', color='#303030',                                                                                                                 \n",
    "        weight='ultralight', rotation='horizontal', transform=cx.transAxes)"
   ]
  },
  {
   "cell_type": "code",
   "execution_count": 158,
   "metadata": {
    "collapsed": false
   },
   "outputs": [],
   "source": [
    "plt.show()"
   ]
  }
 ],
 "metadata": {
  "kernelspec": {
   "display_name": "Python 2",
   "language": "python",
   "name": "python2"
  },
  "language_info": {
   "codemirror_mode": {
    "name": "ipython",
    "version": 2
   },
   "file_extension": ".py",
   "mimetype": "text/x-python",
   "name": "python",
   "nbconvert_exporter": "python",
   "pygments_lexer": "ipython2",
   "version": "2.7.6"
  }
 },
 "nbformat": 4,
 "nbformat_minor": 0
}
