{
 "cells": [
  {
   "cell_type": "markdown",
   "metadata": {},
   "source": [
    "# Question 1\n",
    "\n",
    "Write a Program that takes a text file as an input and generates a pickle file which contains a list of random lines of strings obtained from the text file. Load the pickle file again and check the output.\n",
    "Example: Suppose the text file has some paragraphs:\n",
    "Hello World this ....\n",
    "Unfeeling so rapturous discovery he ...\n",
    "    Terminated principles sentiments ...\n",
    "    Now residence dashwoods she excellent ...\n",
    "Your list elements should look something like:\n",
    "    Terminated principles sentiments ...\n",
    "    Hello World this ...\n",
    "    Now residence dashwoods she excellent ...\n",
    "    Unfeeling so rapturous discovery he ...\n",
    "Hints:\n",
    "* Check a module by the name random. (Official Documentation: https://docs.python.org/2/library/random.html)\n",
    "* Download the text file that you can use as your input here: http://sharmamohit.com/misc_files/test.txt"
   ]
  },
  {
   "cell_type": "code",
   "execution_count": 5,
   "metadata": {
    "collapsed": false
   },
   "outputs": [],
   "source": [
    "import urllib2, random, pickle\n",
    "response = urllib2.urlopen('http://52.25.91.45/misc_files/test.txt')\n",
    "html = response.read()\n",
    "sentences = html.split('\\n\\n')\n",
    "try:\n",
    "    f = open('pickle.txt','w')\n",
    "    l = range(len(sentences))\n",
    "    random.shuffle(l)\n",
    "    for line in l:\n",
    "        f.write(sentences[line])\n",
    "        f.write('\\n\\n')\n",
    "except IOError, e:\n",
    "    print \"Error performing I/O operations on the file\"        "
   ]
  },
  {
   "cell_type": "markdown",
   "metadata": {},
   "source": [
    "# Question 2\n",
    "\n",
    "Citi Bike is a privately owned public bicycle sharing system that serves parts of New York City. Attached you will find a csv file containing 2 week ridership data for the month of December 2014. Your task is to:\n",
    "1. Find the number of Male and Female ridership during this 2 week period.\n",
    "2. What is the percentage of Male riders and Female riders\n",
    "Download the CSV file for 2 weeks of December 2014.\n",
    "\n",
    "Instructions:\n",
    "Do not submit the assignments via email to me.\n",
    "Submit .py files as your assignmnet. Do not copy paste to the text editor or convert to pdf on nyu classes. Name your assignments as: <yourname>'Python challenge'<challenge number><Question number>\n",
    "If you have any doubts in understanding any assignmner question, feel free to email me. I will help you. Do not wait till the last moment.\n",
    "You are allowed to use any technique that involves python built-ins, numpy, matplotlib, pandas. You are not allowed to use third party libraries."
   ]
  }
 ],
 "metadata": {
  "kernelspec": {
   "display_name": "Python 2",
   "language": "python",
   "name": "python2"
  },
  "language_info": {
   "codemirror_mode": {
    "name": "ipython",
    "version": 2
   },
   "file_extension": ".py",
   "mimetype": "text/x-python",
   "name": "python",
   "nbconvert_exporter": "python",
   "pygments_lexer": "ipython2",
   "version": "2.7.6"
  }
 },
 "nbformat": 4,
 "nbformat_minor": 0
}
